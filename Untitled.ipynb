{
 "cells": [
  {
   "cell_type": "markdown",
   "metadata": {},
   "source": [
    "1 - Defina a função somannat que recebe como argumento um número natural n e devolve a soma de todos os números naturais até n.\n",
    "Ex: somannat(5) = 15"
   ]
  },
  {
   "cell_type": "code",
   "execution_count": 4,
   "metadata": {},
   "outputs": [
    {
     "name": "stdout",
     "output_type": "stream",
     "text": [
      "3 15\n"
     ]
    }
   ],
   "source": [
    "def soma_nat(n):\n",
    "    return 1 if n == 1 else n + soma_nat(n - 1)\n",
    "print(soma_nat(2), soma_nat(5))"
   ]
  },
  {
   "cell_type": "markdown",
   "metadata": {},
   "source": [
    "2 Defna a função div que recebe como argumentos dois números naturais m\n",
    " e n e devolve o resultado da divisão inteira de m por n. Neste exercício você não\n",
    "pode recorrer às operações aritmétcas de multplicação, divisão e resto da divisão\n",
    "inteira.\n",
    "Ex: div(7,2) = 3"
   ]
  },
  {
   "cell_type": "code",
   "execution_count": 5,
   "metadata": {},
   "outputs": [
    {
     "name": "stdout",
     "output_type": "stream",
     "text": [
      "2 0 10\n"
     ]
    }
   ],
   "source": [
    "def div(dividendo, divisor):\n",
    "    return 0 if dividendo < divisor else 1 + div(dividendo - divisor, divisor)\n",
    "print (div(5, 2), div(2,3), div(100, 10))"
   ]
  },
  {
   "cell_type": "markdown",
   "metadata": {},
   "source": [
    "3 Defna a função primnalg que recebe como argumento um número natural e\n",
    "devolve o primeiro algarismo (o mais signifcatvo) na representação decimal de n.\n",
    "Ex: primnalg(5649) = 5\n",
    "Ex: primnalg(7) = 7\n"
   ]
  },
  {
   "cell_type": "code",
   "execution_count": 6,
   "metadata": {},
   "outputs": [
    {
     "name": "stdout",
     "output_type": "stream",
     "text": [
      "5\n"
     ]
    }
   ],
   "source": [
    "def prim_alg(n):\n",
    "    return n if n < 10 else prim_alg(n // 10)\n",
    "print(prim_alg(5000))"
   ]
  },
  {
   "cell_type": "markdown",
   "metadata": {},
   "source": [
    "4 Defina a função prod_lista que recebe como argumento uma lista de inteiros e\n",
    "devolve o produto dos seus elementos."
   ]
  },
  {
   "cell_type": "code",
   "execution_count": 3,
   "metadata": {},
   "outputs": [
    {
     "name": "stdout",
     "output_type": "stream",
     "text": [
      "720\n"
     ]
    }
   ],
   "source": [
    "def prod_lista(lista):\n",
    "    if len(lista) > 1:\n",
    "        lista.append(lista[0] * lista[1])\n",
    "        del lista[0]\n",
    "        del lista[0]\n",
    "        prod_lista(lista)\n",
    "        \n",
    "        \n",
    "    return lista[0]\n",
    "    \n",
    "\n",
    "print(prod_lista([1,2,3,4,5,6]))"
   ]
  },
  {
   "cell_type": "markdown",
   "metadata": {},
   "source": [
    "5 Defina a função contemn_parQ que recebe como argumento uma lista de números\n",
    "inteiros w e devolve True se w contém um número par e False em caso contrário."
   ]
  },
  {
   "cell_type": "code",
   "execution_count": 88,
   "metadata": {},
   "outputs": [
    {
     "name": "stdout",
     "output_type": "stream",
     "text": [
      "True\n",
      "False\n"
     ]
    }
   ],
   "source": [
    "def contemparQ(lista):\n",
    "    if len(lista) > 0 and lista[0] % 2 == 0:\n",
    "        return True\n",
    "    elif len(lista) == 0:\n",
    "        return False\n",
    "    else:\n",
    "        del lista[0]\n",
    "        if len(lista) == 0:\n",
    "            return False\n",
    "        return contemparQ(lista)\n",
    "\n",
    "print(contemparQ([2,3,1,2,3,4]))\n",
    "print(contemparQ([1,3,5,7]))"
   ]
  },
  {
   "cell_type": "markdown",
   "metadata": {},
   "source": [
    "6 - Defina a função todosnimparesQ que recebe como argumento uma lista de\n",
    "números inteiros w e devolve True se w contém apenas números ímpares e False\n",
    "em caso contrário.\n",
    "\n",
    "Ex: todos_imparesQ([1,3,5,7]) = True"
   ]
  },
  {
   "cell_type": "code",
   "execution_count": 86,
   "metadata": {},
   "outputs": [
    {
     "name": "stdout",
     "output_type": "stream",
     "text": [
      "True\n",
      "False\n",
      "False\n",
      "False\n"
     ]
    }
   ],
   "source": [
    "def todos_imparesQ(lista):\n",
    "    if len(lista) > 0 and lista[0] % 2 != 0:\n",
    "        del lista[0]\n",
    "        if len(lista) == 0:\n",
    "            return True\n",
    "        return todos_imparesQ(lista)\n",
    "    elif len(lista) == 0:\n",
    "        return False\n",
    "    else:\n",
    "        return False\n",
    "        \n",
    "print(todos_imparesQ([1,1,3,7,11]))\n",
    "print(todos_imparesQ([]))\n",
    "print(todos_imparesQ([2,4,6,8,10]))\n",
    "print(todos_imparesQ([3,4,6,8,11]))"
   ]
  },
  {
   "cell_type": "markdown",
   "metadata": {},
   "source": [
    "7 - Defna a função pertenceQ que recebe como argumentos uma lista de números\n",
    "inteiros w e um número inteiro n e devolve True se n ocorre em w e False em\n",
    "caso contrário.\n",
    "\n",
    "Ex: pertenceQ([1,2,3],1) = True\n",
    "Ex: pertenceQ([1,2,3],2) = True\n",
    "Ex: pertenceQ([1,2,3],3) = True\n",
    "Ex: pertenceQ([1,2,3],4) = False\n"
   ]
  },
  {
   "cell_type": "code",
   "execution_count": 85,
   "metadata": {},
   "outputs": [
    {
     "name": "stdout",
     "output_type": "stream",
     "text": [
      "True\n",
      "True\n",
      "True\n",
      "False\n"
     ]
    }
   ],
   "source": [
    "def pertenceQ(lista, n):\n",
    "    if len(lista) > 0 and lista[0] == n:\n",
    "        return True\n",
    "            \n",
    "    elif len(lista) == 0:\n",
    "        return False\n",
    "    else:\n",
    "        del lista[0]\n",
    "        if len(lista) == 0:\n",
    "            return False\n",
    "        return pertenceQ(lista, n)\n",
    "    \n",
    "\n",
    "print(pertenceQ([1,2,3],1))\n",
    "print(pertenceQ([1,2,3],2))\n",
    "print(pertenceQ([1,2,3],3))\n",
    "print(pertenceQ([1,2,3],4))"
   ]
  },
  {
   "cell_type": "markdown",
   "metadata": {},
   "source": [
    "8 Defina a função junta que recebe como argumentos duas listas de números\n",
    "inteiros w1 e w2 e devolve a concatenação de w1 com w2 .\n",
    "Ex: junta([1,2,3],[4,5,6]) = [1, 2, 3, 4, 5, 6]\n",
    "Ex: junta([],[4,5,6]) = [4, 5, 6]\n",
    "Ex: junta([1,2,3],[]) = [1, 2, 3]"
   ]
  },
  {
   "cell_type": "code",
   "execution_count": 89,
   "metadata": {},
   "outputs": [
    {
     "name": "stdout",
     "output_type": "stream",
     "text": [
      "[1, 2, 3, 4, 5, 6]\n",
      "[4, 5, 6]\n",
      "[1, 2, 3]\n"
     ]
    }
   ],
   "source": [
    "def junta(w1, w2):\n",
    "    if len(w2) > 0:\n",
    "        w1.append(w2[0])\n",
    "        del w2[0]\n",
    "        return junta(w1, w2)\n",
    "    return w1\n",
    "    \n",
    "print(junta([1,2,3],[4,5,6]))\n",
    "print(junta([],[4,5,6]))\n",
    "print(junta([1,2,3],[]))\n",
    "\n",
    "    "
   ]
  },
  {
   "cell_type": "markdown",
   "metadata": {},
   "source": []
  },
  {
   "cell_type": "code",
   "execution_count": null,
   "metadata": {},
   "outputs": [],
   "source": []
  }
 ],
 "metadata": {
  "kernelspec": {
   "display_name": "Python 3",
   "language": "python",
   "name": "python3"
  },
  "language_info": {
   "codemirror_mode": {
    "name": "ipython",
    "version": 3
   },
   "file_extension": ".py",
   "mimetype": "text/x-python",
   "name": "python",
   "nbconvert_exporter": "python",
   "pygments_lexer": "ipython3",
   "version": "3.6.5"
  }
 },
 "nbformat": 4,
 "nbformat_minor": 2
}
