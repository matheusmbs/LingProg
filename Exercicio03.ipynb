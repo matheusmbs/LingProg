{
 "cells": [
  {
   "cell_type": "markdown",
   "metadata": {},
   "source": [
    "1 - Faça um Programa que peça dois números e imprima o maior deles."
   ]
  },
  {
   "cell_type": "code",
   "execution_count": 1,
   "metadata": {},
   "outputs": [
    {
     "name": "stdout",
     "output_type": "stream",
     "text": [
      "Digite o primero número 1\n",
      "Digite o segundo número 4\n",
      "4\n"
     ]
    }
   ],
   "source": [
    "numero_1 = int (input(\"Digite o primero número \"))\n",
    "numero_2 = int (input(\"Digite o segundo número \"))\n",
    "\n",
    "if (numero_1 > numero_2):\n",
    "    print(numero_1)\n",
    "else:\n",
    "    print(\"O maior número é %s \" %(numero_2))"
   ]
  },
  {
   "cell_type": "markdown",
   "metadata": {},
   "source": [
    "3 - Faça um programa para a leitura de duas notas parciais de um aluno. O programa deve calcular a média alcançada por aluno e   apresentar:\n",
    "- A mensagem \"Aprovado\", se a média alcançada for maior ou igual a sete;\n",
    "- A mensagem \"Reprovado\", se a média for menor do que sete;\n",
    "- A mensagem \"Aprovado com Distinção\", se a média for igual a dez."
   ]
  },
  {
   "cell_type": "code",
   "execution_count": 2,
   "metadata": {},
   "outputs": [
    {
     "name": "stdout",
     "output_type": "stream",
     "text": [
      "Digite a primera nota 10\n",
      "Digite a segunda nota 5\n",
      "Aprovado\n"
     ]
    }
   ],
   "source": [
    "nota_1 = int (input(\"Digite a primera nota \"))\n",
    "nota_2 = int (input(\"Digite a segunda nota \"))\n",
    "\n",
    "media = (nota_1 + nota_2) / 2\n",
    "\n",
    "if(media == 10):\n",
    "    print(\"Aprovado com Distinção\")\n",
    "elif(media >= 7):\n",
    "    print(\"Aprovado\")\n",
    "else:\n",
    "    print(\"Reprovado\")\n"
   ]
  },
  {
   "cell_type": "markdown",
   "metadata": {},
   "source": [
    "5 - As Organizações Tabajara resolveram dar um aumento de salário aos seus colaboradores e lhe contrataram para desenvolver o\n",
    "programa que calculará os reajustes.\n",
    "Faça um programa que recebe o salário de um colaborador e o reajuste segundo o seguinte critério, baseado no salário atual:\n",
    "- salários até R$ 280,00 (incluindo) : aumento de 20%\n",
    "- salários entre R$ 280,00 e R$ 700,00 : aumento de 15%\n",
    "- salários entre R$ 700,00 e R$ 1500,00 : aumento de 10%\n",
    "- salários de R$ 1500,00 em diante : aumento de 5% Após o\n",
    "aumento ser realizado, informe na tela:\n",
    "- o salário antes do reajuste;\n",
    "- o percentual de aumento aplicado;\n",
    "- o valor do aumento;\n",
    "- o novo salário, após o aumento."
   ]
  },
  {
   "cell_type": "code",
   "execution_count": 17,
   "metadata": {},
   "outputs": [
    {
     "name": "stdout",
     "output_type": "stream",
     "text": [
      "Digite o salário atual 500\n",
      "O seu salário antigo é 500.0\n",
      "O seu percentual de aumento é 15\n",
      "O valor de aumento é 75.0\n",
      "O novo salário é 575.0\n"
     ]
    }
   ],
   "source": [
    "salario_atual = float(input(\"Digite o salário atual \"))\n",
    "\n",
    "if salario_atual < 280.0:\n",
    "    percentual = 20\n",
    "    valor_aumentado = salario_atual * (percentual / 100)\n",
    "    salario_novo = salario_atual + valor_aumentado\n",
    "elif salario_atual >= 280.0 and salario_atual < 700.0:\n",
    "    percentual = 15\n",
    "    valor_aumentado = salario_atual * (percentual / 100)\n",
    "    salario_novo = salario_atual + valor_aumentado\n",
    "elif salario_atual >= 700.0 and salario_atual < 1500.0:\n",
    "    percentual = 10\n",
    "    valor_aumentado = salario_atual * (percentual / 100)\n",
    "    salario_novo = salario_atual + valor_aumentado\n",
    "elif salario_atual >= 1500.0:\n",
    "    percentual = 5\n",
    "    valor_aumentado = salario_atual * (percentual / 100)\n",
    "    salario_novo = salario_atual + valor_aumentado\n",
    "    \n",
    "if salario_atual < 0:\n",
    "    print (\"Salario digitado invalido\")\n",
    "else:\n",
    "    print (\"O seu salário antigo é %s\" %salario_atual)\n",
    "    print (\"O seu percentual de aumento é %s\" %percentual)\n",
    "    print (\"O valor de aumento é %s\" %valor_aumentado)\n",
    "    print (\"O novo salário é %s\" %salario_novo)"
   ]
  },
  {
   "cell_type": "markdown",
   "metadata": {},
   "source": [
    "7 - Faça um programa que lê as duas notas parciais obtidas por um aluno numa disciplina ao longo de um semestre, e calcule a sua\n",
    "média. A atribuição de conceitos obedece à tabela abaixo: Média de Aproveitamento Conceito\n",
    " Entre 9.0 e 10.0 A\n",
    " Entre 7.5 e 9.0  B\n",
    " Entre 6.0 e 7.5  C\n",
    " Entre 4.0 e 6.0  D\n",
    " Entre 4.0 e zero E\n",
    " \n",
    "O algoritmo deve mostrar na tela as notas, a média, o conceito correspondente e a mensagem “APROVADO” se o conceito for A, B\n",
    "ou C ou “REPROVADO” se o conceito for D ou E."
   ]
  },
  {
   "cell_type": "code",
   "execution_count": 21,
   "metadata": {},
   "outputs": [
    {
     "name": "stdout",
     "output_type": "stream",
     "text": [
      "Digite a primera nota 10\n",
      "Digite a segunda nota 10\n",
      "A primeira nota do aluno foi 10.0 \n",
      "A Segunda nota do aluno foi 10.0 \n",
      "A média do aluno foi 10.0 \n",
      "O conceito do aluno foi A \n",
      "O aluno está aprovado\n"
     ]
    }
   ],
   "source": [
    "nota_1 = float (input(\"Digite a primera nota \"))\n",
    "nota_2 = float (input(\"Digite a segunda nota \"))\n",
    "media = (nota_1 + nota_2) / 2\n",
    "\n",
    "if media >= 9 and media <= 10:\n",
    "    conceito = \"A\";\n",
    "elif media >= 7.5 and media < 9:\n",
    "    conceito = \"B\";\n",
    "elif media >= 6.0 and media < 7.5:\n",
    "    conceito = \"C\";\n",
    "elif media >= 4.0 and media < 6.0:\n",
    "    conceito = \"D\";\n",
    "elif media >= 4.0 and media < 0.0:\n",
    "    conceito = \"E\";\n",
    "    \n",
    "print(\"A primeira nota do aluno foi %s \" %nota_1)\n",
    "print(\"A Segunda nota do aluno foi %s \" %nota_2)\n",
    "print(\"A média do aluno foi %s \" %media)\n",
    "print(\"O conceito do aluno foi %s \" %conceito)\n",
    "\n",
    "if conceito in \"ABC\":\n",
    "    print(\"O aluno está Aprovado\")\n",
    "else:\n",
    "    print(\"O aluno está Reprovado\")\n",
    "\n",
    "\n"
   ]
  },
  {
   "cell_type": "code",
   "execution_count": null,
   "metadata": {},
   "outputs": [],
   "source": []
  }
 ],
 "metadata": {
  "kernelspec": {
   "display_name": "Python 3",
   "language": "python",
   "name": "python3"
  },
  "language_info": {
   "codemirror_mode": {
    "name": "ipython",
    "version": 3
   },
   "file_extension": ".py",
   "mimetype": "text/x-python",
   "name": "python",
   "nbconvert_exporter": "python",
   "pygments_lexer": "ipython3",
   "version": "3.6.5"
  }
 },
 "nbformat": 4,
 "nbformat_minor": 2
}
