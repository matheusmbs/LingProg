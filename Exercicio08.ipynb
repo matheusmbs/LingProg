{
 "cells": [
  {
   "cell_type": "markdown",
   "metadata": {},
   "source": [
    "1. Escreva uma função que calcula a soma dos n primeiros números naturais, dado\n",
    "que n é recebido como parâmetro. Escreva um decorator que garanta que o valor\n",
    "recebido é natural (maior ou igual a 1).\n"
   ]
  },
  {
   "cell_type": "code",
   "execution_count": 1,
   "metadata": {},
   "outputs": [
    {
     "name": "stdout",
     "output_type": "stream",
     "text": [
      "55\n",
      "Número menor que 1\n",
      "0\n"
     ]
    }
   ],
   "source": [
    "# Com@Classes\n",
    "class Validar:\n",
    "\tdef __init__(self,f):\n",
    "\t\tself.f = f\n",
    "\tdef __call__(self,n):\n",
    "\t\tif (n>=1):\n",
    "\t\t\treturn self.f(n)\n",
    "\t\telse:\n",
    "\t\t\tprint(\"Número menor que 1\")\n",
    "\t\t\treturn 0\n",
    "@Validar\n",
    "def outra_funcao(n):\n",
    "\tsoma=0\n",
    "\tfor x in range(n+1):\n",
    "\t\tsoma = soma + x\n",
    "\treturn soma\n",
    "\n",
    "print(outra_funcao(10))\n",
    "print(outra_funcao(0))"
   ]
  },
  {
   "cell_type": "code",
   "execution_count": 15,
   "metadata": {},
   "outputs": [
    {
     "name": "stdout",
     "output_type": "stream",
     "text": [
      "1\n",
      "Número menor que 1\n",
      "0\n"
     ]
    }
   ],
   "source": [
    "# Com@Funcoes\n",
    "def valida (f):\n",
    "\tdef soma_n_primeiros(n):\n",
    "\t\tif (n>=1):\n",
    "\t\t\treturn f(n)\n",
    "\t\telse:\n",
    "\t\t\tprint(\"Número menor que 1\")\n",
    "\t\t\treturn 0\n",
    "\treturn soma_n_primeiros\n",
    "\n",
    "@valida\n",
    "def outra_funcao(n):\n",
    "\tsoma=0\n",
    "\tfor x in range(n+1):\n",
    "\t\tsoma = soma + x\n",
    "\treturn soma\n",
    "\n",
    "print(outra_funcao(1))\n",
    "print(outra_funcao(0))"
   ]
  },
  {
   "cell_type": "code",
   "execution_count": 16,
   "metadata": {},
   "outputs": [
    {
     "name": "stdout",
     "output_type": "stream",
     "text": [
      "28\n",
      "Número menor que 1\n",
      "0\n"
     ]
    }
   ],
   "source": [
    "# Sem@\n",
    "def valida (f):\n",
    "\tdef soma_n_primeiros(n):\n",
    "\t\tif (n>=1):\n",
    "\t\t\treturn f(n)\n",
    "\t\telse:\n",
    "\t\t\tprint(\"Número menor que 1\")\n",
    "\t\t\treturn 0\n",
    "\treturn soma_n_primeiros\n",
    "def outra_funcao(n):\n",
    "\tsoma=0\n",
    "\tfor x in range(n+1):\n",
    "\t\tsoma = soma + x\n",
    "\treturn soma\n",
    "\n",
    "outra_funcao = valida(outra_funcao)\n",
    "print(outra_funcao(7))\n",
    "print(outra_funcao(0))"
   ]
  },
  {
   "cell_type": "markdown",
   "metadata": {},
   "source": [
    "2. Escreva uma função que recebe uma lista de triplas e, para cada uma, gera uma\n",
    "equação do segundo grau considerando que os elementos da tripla são os\n",
    "coefcientes usualmente denominados a, b e c da equação. Note que a sua função\n",
    "deverá devolver uma lista de equações. A geração das equações deve ser feita por\n",
    "meio de, evidentemente, decorators."
   ]
  },
  {
   "cell_type": "code",
   "execution_count": 19,
   "metadata": {},
   "outputs": [
    {
     "name": "stdout",
     "output_type": "stream",
     "text": [
      "['5xˆ2+5x+5', '7xˆ2+7x+7', '2xˆ2+2x+2']\n"
     ]
    }
   ],
   "source": [
    "# Com@Classes\n",
    "class Equacao:\n",
    "\tdef __init__ (self,f):\n",
    "\t\tself.f = f\n",
    "\t\tself.equacoes =[]\n",
    "\tdef __call__(self,lista):\n",
    "\t\tfor e in lista:\n",
    "\t\t\tself.equacoes.append(self.f(e))\n",
    "\t\treturn self.equacoes\n",
    "@Equacao\n",
    "def funcao(lista):\n",
    "\tequacao = str(lista) + \"xˆ2\" + \"+\" + str(lista) + \"x\" + \"+\"+ str(lista)\n",
    "\treturn equacao\n",
    "print(funcao([5,7,2]))"
   ]
  },
  {
   "cell_type": "code",
   "execution_count": 17,
   "metadata": {},
   "outputs": [
    {
     "name": "stdout",
     "output_type": "stream",
     "text": [
      "['3xˆ2+3x+3', '4xˆ2+4x+4', '8xˆ2+8x+8']\n"
     ]
    }
   ],
   "source": [
    "# Com@Funcoes\n",
    "def recebe(f):\n",
    "\tequacoes = []\n",
    "\tdef decorator(lista):\n",
    "\t\tfor e in lista:\n",
    "\t\t\tequacoes.append(f(e))\n",
    "\t\treturn equacoes\n",
    "\treturn decorator\n",
    "\n",
    "@recebe\n",
    "def funcao(lista):\n",
    "\tequacao = str(lista) + \"xˆ2\" + \"+\" + str(lista) + \"x\" + \"+\"+ str(lista)\n",
    "\treturn equacao\n",
    "print(funcao([3,4,8]))"
   ]
  },
  {
   "cell_type": "code",
   "execution_count": 18,
   "metadata": {},
   "outputs": [
    {
     "name": "stdout",
     "output_type": "stream",
     "text": [
      "['2xˆ2+2x+2', '4xˆ2+4x+4', '5xˆ2+5x+5']\n"
     ]
    }
   ],
   "source": [
    "# Sem@\n",
    "def recebe(f):\n",
    "\tequacoes = []\n",
    "\tdef decorator(lista):\n",
    "\t\tfor e in lista:\n",
    "\t\t\tequacoes.append(f(e))\n",
    "\t\treturn equacoes\n",
    "\treturn decorator\n",
    "def funcao(lista):\n",
    "\tequacao = str(lista) + \"xˆ2\" + \"+\" + str(lista) + \"x\" + \"+\"+ str(lista)\n",
    "\treturn equacao\n",
    "funcao = recebe(funcao)\n",
    "print(funcao([2,4,5]))"
   ]
  },
  {
   "cell_type": "markdown",
   "metadata": {},
   "source": [
    "3. Escreva uma função que exibe uma lista recebida como parâmetro. Ela deve,\n",
    "contudo, ordenar a lista antes. A ordenação deve ser feita por meio de um\n",
    "decorator."
   ]
  },
  {
   "cell_type": "code",
   "execution_count": 22,
   "metadata": {},
   "outputs": [
    {
     "name": "stdout",
     "output_type": "stream",
     "text": [
      "[0, 1, 2, 3, 4, 5, 6, 7]\n",
      "None\n"
     ]
    }
   ],
   "source": [
    "# Com@Classes\n",
    "class ordena:\n",
    "    def __init__(self, f):\n",
    "        self.f = f\n",
    "    def __call__(self, lista):\n",
    "        return self.f(sorted(lista))\n",
    "@ordena\n",
    "def funcao(lista):\n",
    "    print(lista)\n",
    "print(funcao([7,3,6,2,0,1,4,5]))"
   ]
  },
  {
   "cell_type": "code",
   "execution_count": 21,
   "metadata": {},
   "outputs": [
    {
     "name": "stdout",
     "output_type": "stream",
     "text": [
      "[0, 1, 2, 3, 4, 5, 6, 7]\n",
      "None\n"
     ]
    }
   ],
   "source": [
    "# Com@Funcoes\n",
    "def ordena(f):\n",
    "\tdef decorator(lista):\n",
    "\t\treturn f(sorted(lista))\n",
    "\treturn decorator\n",
    "\n",
    "@ordena\n",
    "def funcao(lista):\n",
    "\tprint(lista)\n",
    "print(funcao([7,3,6,2,0,1,4,5]))"
   ]
  },
  {
   "cell_type": "code",
   "execution_count": 20,
   "metadata": {},
   "outputs": [
    {
     "name": "stdout",
     "output_type": "stream",
     "text": [
      "[0, 1, 2, 3, 4, 5, 6, 7]\n",
      "None\n"
     ]
    }
   ],
   "source": [
    "# Sem@\n",
    "def ordena(f):\n",
    "\tdef decorator(lista):\n",
    "\t\treturn f(sorted(lista))\n",
    "\treturn decorator\n",
    "\n",
    "def funcao(lista):\n",
    "\tprint(lista)\n",
    "\n",
    "funcao = ordena(funcao)\n",
    "print(funcao([7,3,6,2,0,1,4,5]))"
   ]
  },
  {
   "cell_type": "markdown",
   "metadata": {},
   "source": [
    "4. Escreva uma classe para representar um café que, a princípio, tem somente preço.\n",
    "Um cafezinho custa 5 reais. Escreva classes para representar os adicionais: palitos de\n",
    "chocolate (0,50 cents), espuma de leite (0,20 cents), caramelo (0,10 cents) e canela\n",
    "(0,30 cents). Crie um objeto café e, a seguir, faça um menuzinho em que o usuário\n",
    "pode fcar indefnidamente escolhendo adicionais: 1 para chocolate, 2 para espuma\n",
    "de leite, 3 para caramelo e 4 para canela. A cada adicional escolhido, decore o objeto\n",
    "café. No fnal, mostre o preço total."
   ]
  },
  {
   "cell_type": "code",
   "execution_count": null,
   "metadata": {},
   "outputs": [
    {
     "name": "stdout",
     "output_type": "stream",
     "text": [
      "1 - Adicionar Palitos de chocolate \n",
      "2 - Adicionar Espuma de leite \n",
      "3 - Adicionar Caramelo \n",
      "4 - Adicionar Canela \n",
      "0 - Sair \n",
      "1\n",
      "Palitos de chocolate no seu café\n",
      "1 - Adicionar Palitos de chocolate \n",
      "2 - Adicionar Espuma de leite \n",
      "3 - Adicionar Caramelo \n",
      "4 - Adicionar Canela \n",
      "0 - Sair \n",
      "2\n",
      "Espuma de leite no seu café!\n",
      "1 - Adicionar Palitos de chocolate \n",
      "2 - Adicionar Espuma de leite \n",
      "3 - Adicionar Caramelo \n",
      "4 - Adicionar Canela \n",
      "0 - Sair \n",
      "4\n",
      "Canela no seu café!\n"
     ]
    }
   ],
   "source": [
    "# Com@Classes\n",
    "class Cafe:\n",
    "    def __init__(self, preco = 5.0):\n",
    "        self.preco = preco\n",
    "\n",
    "    def __call__(self, adicional):\n",
    "        self.preco += adicional.preco\n",
    "        return self.preco\n",
    "\n",
    "\n",
    "class Palitos_de_chocolate:\n",
    "    def __init__(self, palitos_chocolate = 0.5):\n",
    "        self.preco = palitos_chocolate\n",
    "\n",
    "\n",
    "class Espuma_de_leite:\n",
    "    def __init__(self, espuma_de_leite = 0.2):\n",
    "        self.preco = espuma_de_leite\n",
    "\n",
    "\n",
    "class Caramelo:\n",
    "    def __init__(self, caramelo = 0.1):\n",
    "        self.preco = caramelo\n",
    "\n",
    "class Canela:\n",
    "    def __init__(self, canela = 0.3):\n",
    "        self.preco = canela\n",
    "\n",
    "def opcoes():\n",
    "    return int(\n",
    "                input(\"1 - Adicionar Palitos de chocolate \\n\" + \"2 - Adicionar Espuma de leite \\n\" +\"3 - Adicionar Caramelo \\n\" +\"4 - Adicionar Canela \\n\" +\"0 - Sair \\n\"\n",
    "                )\n",
    "            )\n",
    "\n",
    "tipo = opcoes()\n",
    "cafe = Cafe\n",
    "while (tipo != 0):\n",
    "    if tipo == 1:\n",
    "        print(\"Palitos de chocolate no seu café\")\n",
    "        cafe(Palitos_de_chocolate())\n",
    "    if tipo == 2:\n",
    "        print(\"Espuma de leite no seu café!\")\n",
    "        cafe(Espuma_de_leite())\n",
    "    if tipo == 3:\n",
    "        print(\"Caramelo no seu café!\")\n",
    "        cafe(Caramelo())\n",
    "    if tipo == 4:\n",
    "        print(\"Canela no seu café!\")\n",
    "        cafe(Canela())\n",
    "    tipo = opcoes()\n",
    "print(\"Valor Total:\",cafe.preco)"
   ]
  },
  {
   "cell_type": "code",
   "execution_count": null,
   "metadata": {},
   "outputs": [
    {
     "name": "stdout",
     "output_type": "stream",
     "text": [
      "1 - Adicionar Palitos de chocolate \n",
      "2 - Adicionar Espuma de leite \n",
      "3 - Adicionar Caramelo \n",
      "4 - Adicionar Canela \n",
      "0 - Sair \n",
      "1\n",
      "Palitos de chocolate no seu café\n",
      "1 - Adicionar Palitos de chocolate \n",
      "2 - Adicionar Espuma de leite \n",
      "3 - Adicionar Caramelo \n",
      "4 - Adicionar Canela \n",
      "0 - Sair \n",
      "2\n",
      "Espuma de leite no seu café!\n",
      "1 - Adicionar Palitos de chocolate \n",
      "2 - Adicionar Espuma de leite \n",
      "3 - Adicionar Caramelo \n",
      "4 - Adicionar Canela \n",
      "0 - Sair \n",
      "3\n",
      "Caramelo no seu café!\n"
     ]
    }
   ],
   "source": [
    "# Com@Funcoes\n",
    "def palitos_de_chocolate(f):\n",
    "    def decorator():\n",
    "        return f() + 0.5\n",
    "    return decorator\n",
    "\n",
    "def espuma_de_leite(f):\n",
    "    def decorator():\n",
    "        return f() + 0.2\n",
    "    return decorator\n",
    "\n",
    "def caramelo(f):\n",
    "    def decorator():\n",
    "        return f() + 0.1\n",
    "    return decorator\n",
    "\n",
    "def canela(f):\n",
    "    def decorator():\n",
    "        return f() + 0.3\n",
    "def cafe():\n",
    "    return 5.0\n",
    "def opcoes():\n",
    "    return int(\n",
    "                input(\"1 - Adicionar Palitos de chocolate \\n\" + \"2 - Adicionar Espuma de leite \\n\" +\"3 - Adicionar Caramelo \\n\" +\"4 - Adicionar Canela \\n\" +\"0 - Sair \\n\"\n",
    "                )\n",
    "            )\n",
    "\n",
    "tipo = opcoes()\n",
    "while (tipo != 0):\n",
    "    if tipo == 1:\n",
    "        print(\"Palitos de chocolate no seu café\")\n",
    "        @palitos_de_chocolate\n",
    "        def cafe():\n",
    "            return 5.0\n",
    "    if tipo == 2:\n",
    "        print(\"Espuma de leite no seu café!\")\n",
    "        @espuma_de_leite\n",
    "        def cafe():\n",
    "            return 5.0\n",
    "    if tipo == 3:\n",
    "        print(\"Caramelo no seu café!\")\n",
    "        @caramelo\n",
    "        def cafe():\n",
    "            return 5.0\n",
    "    if tipo == 4:\n",
    "        print(\"Canela no seu café!\")\n",
    "        @canela\n",
    "        def cafe():\n",
    "            return 5.0\n",
    "    tipo = opcoes()\n",
    "print(\"Valor Total:\", cafe())"
   ]
  },
  {
   "cell_type": "code",
   "execution_count": null,
   "metadata": {},
   "outputs": [
    {
     "name": "stdout",
     "output_type": "stream",
     "text": [
      "1 - Adicionar Palitos de chocolate \n",
      "2 - Adicionar Espuma de leite \n",
      "3 - Adicionar Caramelo \n",
      "4 - Adicionar Canela \n",
      "0 - Sair \n",
      "1\n",
      "Palitos de chocolate no seu café\n",
      "1 - Adicionar Palitos de chocolate \n",
      "2 - Adicionar Espuma de leite \n",
      "3 - Adicionar Caramelo \n",
      "4 - Adicionar Canela \n",
      "0 - Sair \n",
      "2\n",
      "Espuma de leite no seu café!\n",
      "1 - Adicionar Palitos de chocolate \n",
      "2 - Adicionar Espuma de leite \n",
      "3 - Adicionar Caramelo \n",
      "4 - Adicionar Canela \n",
      "0 - Sair \n",
      "3\n",
      "Caramelo no seu café!\n"
     ]
    }
   ],
   "source": [
    "# Sem@\n",
    "def palitos_de_chocolate(f):\n",
    "    def decorator():\n",
    "        return f() + 0.5\n",
    "    return decorator\n",
    "\n",
    "def espuma_de_leite(f):\n",
    "    def decorator():\n",
    "        return f() + 0.2\n",
    "    return decorator\n",
    "\n",
    "def caramelo(f):\n",
    "    def decorator():\n",
    "        return f() + 0.1\n",
    "    return decorator\n",
    "\n",
    "def canela(f):\n",
    "    def decorator():\n",
    "        return f() + 0.3\n",
    "def cafe():\n",
    "    return 5.0\n",
    "def opcoes():\n",
    "    return int(\n",
    "                input(\"1 - Adicionar Palitos de chocolate \\n\" + \"2 - Adicionar Espuma de leite \\n\" +\"3 - Adicionar Caramelo \\n\" +\"4 - Adicionar Canela \\n\" +\"0 - Sair \\n\"\n",
    "                )\n",
    "            )\n",
    "\n",
    "tipo = opcoes()\n",
    "while (tipo != 0):\n",
    "    if tipo == 1:\n",
    "        print(\"Palitos de chocolate no seu café\")\n",
    "        cafe = palitos_de_chocolate(cafe)\n",
    "    if tipo == 2:\n",
    "        print(\"Espuma de leite no seu café!\")\n",
    "        cafe = espuma_de_leite(cafe)\n",
    "    if tipo == 3:\n",
    "        print(\"Caramelo no seu café!\")\n",
    "        cafe = caramelo(cafe)\n",
    "    if tipo == 4:\n",
    "        print(\"Canela no seu café!\")\n",
    "        cafe = canela(cafe)\n",
    "    tipo = opcoes()\n",
    "print(\"Valor Total:\", cafe())"
   ]
  },
  {
   "cell_type": "code",
   "execution_count": null,
   "metadata": {},
   "outputs": [],
   "source": []
  }
 ],
 "metadata": {
  "kernelspec": {
   "display_name": "Python 3",
   "language": "python",
   "name": "python3"
  },
  "language_info": {
   "codemirror_mode": {
    "name": "ipython",
    "version": 3
   },
   "file_extension": ".py",
   "mimetype": "text/x-python",
   "name": "python",
   "nbconvert_exporter": "python",
   "pygments_lexer": "ipython3",
   "version": "3.6.5"
  }
 },
 "nbformat": 4,
 "nbformat_minor": 2
}
