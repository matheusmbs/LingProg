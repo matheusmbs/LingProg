{
 "cells": [
  {
   "cell_type": "markdown",
   "metadata": {},
   "source": [
    "teste"
   ]
  },
  {
   "cell_type": "code",
   "execution_count": 1,
   "metadata": {},
   "outputs": [
    {
     "name": "stdout",
     "output_type": "stream",
     "text": [
      "2\n",
      "5\n"
     ]
    }
   ],
   "source": [
    "def menor_de_dois_pares(a, b):\n",
    "    if a % 2 == 0 and b % 2 == 0:\n",
    "        if a > b:\n",
    "            return b\n",
    "        return a\n",
    "    else: \n",
    "        if a > b:\n",
    "            return a\n",
    "        return b\n",
    "    \n",
    "    \n",
    "print(menor_de_dois_pares(2,4)) \n",
    "print(menor_de_dois_pares (2,5))"
   ]
  },
  {
   "cell_type": "markdown",
   "metadata": {},
   "source": [
    "teste"
   ]
  },
  {
   "cell_type": "code",
   "execution_count": 2,
   "metadata": {},
   "outputs": [],
   "source": [
    "def comecam_com_a_mesma_letra (palavra):\n",
    "    partes = palavras.split(\" \")\n",
    "    return True if partes[0][0].upper() == partes[1][0].upper() else False"
   ]
  },
  {
   "cell_type": "markdown",
   "metadata": {},
   "source": [
    "teste"
   ]
  },
  {
   "cell_type": "code",
   "execution_count": 3,
   "metadata": {},
   "outputs": [
    {
     "name": "stdout",
     "output_type": "stream",
     "text": [
      "casa em estou Eu \n",
      "prontos Estamos \n"
     ]
    }
   ],
   "source": [
    "def mestre_yoda(frase):\n",
    "    lista = frase.split(\" \")\n",
    "    lista.reverse()\n",
    "    fraseReformulada = \"\";\n",
    "    for palavra in lista:\n",
    "        fraseReformulada = fraseReformulada + palavra + \" \"\n",
    "    return fraseReformulada\n",
    "print(mestre_yoda('Eu estou em casa'))\n",
    "print(mestre_yoda('Estamos prontos'))"
   ]
  },
  {
   "cell_type": "markdown",
   "metadata": {},
   "source": [
    "teste"
   ]
  },
  {
   "cell_type": "code",
   "execution_count": 4,
   "metadata": {},
   "outputs": [
    {
     "name": "stdout",
     "output_type": "stream",
     "text": [
      "True\n",
      "False\n",
      "True\n"
     ]
    }
   ],
   "source": [
    "def tem_33(lista):\n",
    "    status = \"Nada\"\n",
    "    for simbolo in lista:\n",
    "        if simbolo == 3:\n",
    "            if status == \"Nada\":\n",
    "                status = \"Tres\"\n",
    "            elif status == \"Tres\":\n",
    "                return True;\n",
    "        else:\n",
    "            if status == \"Tres\":\n",
    "                status = \"Nada\"\n",
    "    return False\n",
    "\n",
    "print(tem_33([3, 3, 1]))\n",
    "print(tem_33([3, 1, 3, 1, 3, 1]))\n",
    "print(tem_33([1, 1, 1, 3, 1, 1, 1, 3, 1, 1, 3, 3]))"
   ]
  },
  {
   "cell_type": "markdown",
   "metadata": {},
   "source": [
    "teste"
   ]
  },
  {
   "cell_type": "code",
   "execution_count": 5,
   "metadata": {},
   "outputs": [
    {
     "name": "stdout",
     "output_type": "stream",
     "text": [
      "19\n",
      "6\n",
      "('ESTOUROU', 23)\n"
     ]
    }
   ],
   "source": [
    "def blackjack (a, b, c):\n",
    "    soma = a + b + c\n",
    "    if soma <= 21:\n",
    "        return soma\n",
    "    else: \n",
    "        if 11 in [a, b, c]:\n",
    "            return soma - 10\n",
    "        return (\"ESTOUROU\", soma)\n",
    "    \n",
    "print(blackjack(11, 9, 9)) \n",
    "print(blackjack(1, 2 , 3))\n",
    "print(blackjack(3, 10, 10)) "
   ]
  },
  {
   "cell_type": "code",
   "execution_count": null,
   "metadata": {},
   "outputs": [],
   "source": []
  }
 ],
 "metadata": {
  "kernelspec": {
   "display_name": "Python 3",
   "language": "python",
   "name": "python3"
  },
  "language_info": {
   "codemirror_mode": {
    "name": "ipython",
    "version": 3
   },
   "file_extension": ".py",
   "mimetype": "text/x-python",
   "name": "python",
   "nbconvert_exporter": "python",
   "pygments_lexer": "ipython3",
   "version": "3.6.5"
  }
 },
 "nbformat": 4,
 "nbformat_minor": 2
}
