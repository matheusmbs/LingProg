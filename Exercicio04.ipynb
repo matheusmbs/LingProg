{
 "cells": [
  {
   "cell_type": "markdown",
   "metadata": {},
   "source": [
    "1 Menor de dois pares: \n",
    "Escreva uma função que retorne o menor de dois números \n",
    "dados se ambos os números forem pares, mas retorna o maior se um dos dois for \n",
    "ímpar. Exemplo:\n",
    "menor_de_dois_pares(2,4) --> 2\n",
    "menor_de_dois_pares (2,5) --> 5"
   ]
  },
  {
   "cell_type": "code",
   "execution_count": 1,
   "metadata": {},
   "outputs": [
    {
     "name": "stdout",
     "output_type": "stream",
     "text": [
      "2\n",
      "5\n"
     ]
    }
   ],
   "source": [
    "def menor_de_dois_pares(a, b):\n",
    "    if a % 2 == 0 and b % 2 == 0:\n",
    "        if a > b:\n",
    "            return b\n",
    "        return a\n",
    "    else: \n",
    "        if a > b:\n",
    "            return a\n",
    "        return b\n",
    "    \n",
    "    \n",
    "print(menor_de_dois_pares(2,4)) \n",
    "print(menor_de_dois_pares (2,5))"
   ]
  },
  {
   "cell_type": "markdown",
   "metadata": {},
   "source": [
    "2 Mesma letra: \n",
    "Escreva uma função que receba uma string com duas palavras e \n",
    "retorne True se ambas palavras começarem com a mesma letra. Exemplo:"
   ]
  },
  {
   "cell_type": "code",
   "execution_count": 6,
   "metadata": {},
   "outputs": [
    {
     "name": "stdout",
     "output_type": "stream",
     "text": [
      "True\n",
      "False\n"
     ]
    }
   ],
   "source": [
    "def comecam_com_a_mesma_letra (palavra):\n",
    "    partes = palavra.split(\" \")\n",
    "    if partes[0][0].upper() == partes[1][0].upper():\n",
    "        return True\n",
    "    else:\n",
    "        return False\n",
    "\n",
    "print(comecam_com_a_mesma_letra (\"Matheus Moura\"))\n",
    "print(comecam_com_a_mesma_letra (\"Lucas Oliveira\"))"
   ]
  },
  {
   "cell_type": "markdown",
   "metadata": {},
   "source": [
    "3 Mestre Yoda: \n",
    "Dada uma sentença, a função deve retornar a sentença com as \n",
    "palavras na ordem reversa. Exemplo:"
   ]
  },
  {
   "cell_type": "code",
   "execution_count": 3,
   "metadata": {},
   "outputs": [
    {
     "name": "stdout",
     "output_type": "stream",
     "text": [
      "casa em estou Eu \n",
      "prontos Estamos \n"
     ]
    }
   ],
   "source": [
    "def mestre_yoda(frase):\n",
    "    lista = frase.split(\" \")\n",
    "    lista.reverse()\n",
    "    fraseReformulada = \"\";\n",
    "    for palavra in lista:\n",
    "        fraseReformulada = fraseReformulada + palavra + \" \"\n",
    "    return fraseReformulada\n",
    "print(mestre_yoda('Eu estou em casa'))\n",
    "print(mestre_yoda('Estamos prontos'))"
   ]
  },
  {
   "cell_type": "markdown",
   "metadata": {},
   "source": [
    "4 Tem 33: \n",
    "Faça uma função que retorne True se, dada uma lista de inteiros, houver \n",
    "em alguma posição da lista um 3 do lado de outro 3. Exemplo:"
   ]
  },
  {
   "cell_type": "code",
   "execution_count": 4,
   "metadata": {},
   "outputs": [
    {
     "name": "stdout",
     "output_type": "stream",
     "text": [
      "True\n",
      "False\n",
      "True\n"
     ]
    }
   ],
   "source": [
    "def tem_33(lista):\n",
    "    status = \"Nada\"\n",
    "    for simbolo in lista:\n",
    "        if simbolo == 3:\n",
    "            if status == \"Nada\":\n",
    "                status = \"Tres\"\n",
    "            elif status == \"Tres\":\n",
    "                return True;\n",
    "        else:\n",
    "            if status == \"Tres\":\n",
    "                status = \"Nada\"\n",
    "    return False\n",
    "\n",
    "print(tem_33([3, 3, 1]))\n",
    "print(tem_33([3, 1, 3, 1, 3, 1]))\n",
    "print(tem_33([1, 1, 1, 3, 1, 1, 1, 3, 1, 1, 3, 3]))"
   ]
  },
  {
   "cell_type": "markdown",
   "metadata": {},
   "source": [
    "5 Blackjack: \n",
    "Faça uma função que receba 3 inteiros entre 1 e 11. Se a soma deles for \n",
    "menor que 21, retorne o valor da soma. Se for mair do que 21 e houver um 11, "
   ]
  },
  {
   "cell_type": "code",
   "execution_count": 5,
   "metadata": {},
   "outputs": [
    {
     "name": "stdout",
     "output_type": "stream",
     "text": [
      "19\n",
      "6\n",
      "('ESTOUROU', 23)\n"
     ]
    }
   ],
   "source": [
    "def blackjack (a, b, c):\n",
    "    soma = a + b + c\n",
    "    if soma <= 21:\n",
    "        return soma\n",
    "    else: \n",
    "        if 11 in [a, b, c]:\n",
    "            return soma - 10\n",
    "        return (\"ESTOUROU\", soma)\n",
    "    \n",
    "print(blackjack(11, 9, 9)) \n",
    "print(blackjack(1, 2 , 3))\n",
    "print(blackjack(3, 10, 10)) "
   ]
  },
  {
   "cell_type": "markdown",
   "metadata": {},
   "source": [
    "6 Espião: Escreva uma função que receba uma lista de inteiros e retorne True se contém um 007 em ordem, mesmo \n",
    "que não contínuo. Exemplo:"
   ]
  },
  {
   "cell_type": "code",
   "execution_count": 10,
   "metadata": {},
   "outputs": [
    {
     "name": "stdout",
     "output_type": "stream",
     "text": [
      "True\n",
      "False\n",
      "True\n"
     ]
    }
   ],
   "source": [
    "def espiao(lista):\n",
    "    status = \"Nada\"\n",
    "    for letra in lista:\n",
    "        if letra == 0:\n",
    "            if status == \"Nada\":\n",
    "                status = \"etapa1\"\n",
    "            elif status == \"etapa1\":\n",
    "                status = \"etapa2\"\n",
    "        elif letra == 7:\n",
    "            if status == \"etapa2\":\n",
    "                return True\n",
    "    return False\n",
    "\n",
    "print(espiao([2,3,0,0,7]))\n",
    "print(espiao([1,5,6,8,0,7,5,7]))\n",
    "print(espiao([0,1,5,8,9,0,5,6,7]))"
   ]
  },
  {
   "cell_type": "code",
   "execution_count": null,
   "metadata": {},
   "outputs": [],
   "source": []
  }
 ],
 "metadata": {
  "kernelspec": {
   "display_name": "Python 3",
   "language": "python",
   "name": "python3"
  },
  "language_info": {
   "codemirror_mode": {
    "name": "ipython",
    "version": 3
   },
   "file_extension": ".py",
   "mimetype": "text/x-python",
   "name": "python",
   "nbconvert_exporter": "python",
   "pygments_lexer": "ipython3",
   "version": "3.6.5"
  }
 },
 "nbformat": 4,
 "nbformat_minor": 2
}
