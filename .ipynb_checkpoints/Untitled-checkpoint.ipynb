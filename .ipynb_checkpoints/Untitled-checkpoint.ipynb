{
 "cells": [
  {
   "cell_type": "markdown",
   "metadata": {},
   "source": [
    "1 - Crie um programa que recebe uma lista de números e\n",
    "- retorne o maior elemento\n",
    "- retorne a soma dos elementos\n",
    "- retorne o número de ocorrências do primeiro elemento da lista\n",
    "- retorne a média dos elementos\n",
    "- retorne o valor mais próximo da média dos elementos\n",
    "- retorne a soma dos elementos com valor negativo\n",
    "- retorne a quantidade de vizinhos iguais"
   ]
  },
  {
   "cell_type": "code",
   "execution_count": 8,
   "metadata": {},
   "outputs": [
    {
     "ename": "SyntaxError",
     "evalue": "unexpected EOF while parsing (<ipython-input-8-b900d1ca82d4>, line 20)",
     "output_type": "error",
     "traceback": [
      "\u001b[1;36m  File \u001b[1;32m\"<ipython-input-8-b900d1ca82d4>\"\u001b[1;36m, line \u001b[1;32m20\u001b[0m\n\u001b[1;33m    \u001b[0m\n\u001b[1;37m    ^\u001b[0m\n\u001b[1;31mSyntaxError\u001b[0m\u001b[1;31m:\u001b[0m unexpected EOF while parsing\n"
     ]
    }
   ],
   "source": [
    "my_list = []\n",
    "i = 1;\n",
    "\n",
    "while i <= 5:\n",
    "    numero = int(input(\"Digite um numero inteiro para a posição %s da lista \" %(i)))\n",
    "    my_list.append(numero)\n",
    "    i += 1\n",
    "\n",
    "print(\"O maior elemento da lista é %s \" %(max(my_list)))\n",
    "print(\"A soma dos elementos da lista é %s \" %(sum(my_list)))\n",
    "print(\"O número de ocorrências do primeiro elemento da lista é %s \" %(my_list.count(my_list[0])))\n",
    "print(\"A média dos elementos da lista é %s \" %(sum(my_list) / len(my_list)))\n",
    "print(\"A soma dos elementos com valor negativo é %s \" %(sum(i for i in my_list if i < 0)))\n",
    "\n"
   ]
  },
  {
   "cell_type": "markdown",
   "metadata": {},
   "source": [
    "2 - Faça um programa que receba duas listas e retorne True se são\n",
    "iguais ou False caso contrario.\n",
    "Duas listas são iguais se possuem os mesmos valores e na mesma\n",
    "ordem.\n"
   ]
  },
  {
   "cell_type": "code",
   "execution_count": null,
   "metadata": {
    "scrolled": true
   },
   "outputs": [],
   "source": [
    "my_list1 = []\n",
    "my_list2 = []\n",
    "i = 1;\n",
    "\n",
    "while i <= 5:\n",
    "    elemento = input(\"Digite um numero inteiro para a posição %s da primeira lista \" %(i))\n",
    "    my_list1.append(elemento)\n",
    "    i += 1\n",
    "\n",
    "i = 1\n",
    "while i <= 5:\n",
    "    elemento = input(\"Digite um numero inteiro para a posição %s da segunda lista \" %(i))\n",
    "    my_list2.append(elemento)\n",
    "    i += 1\n",
    "\n",
    "i = 0\n",
    "verificador = True\n",
    "while i <= 4:\n",
    "    if (my_list1[i] != my_list2[i]):\n",
    "        verificador = False\n",
    "    i += 1\n",
    "\n",
    "print(verificador)\n",
    "\n"
   ]
  },
  {
   "cell_type": "markdown",
   "metadata": {},
   "source": [
    "3 - Faça um programa que receba duas listas e retorne True se têm\n",
    "os mesmos elementos ou False caso contrário\n",
    "Duas listas possuem os mesmos elementos quando são compostas\n",
    "pelos mesmos valores, mas não obrigatoriamente na mesma ordem."
   ]
  },
  {
   "cell_type": "code",
   "execution_count": null,
   "metadata": {},
   "outputs": [],
   "source": [
    "my_list1 = []\n",
    "my_list2 = []\n",
    "i = 1;\n",
    "\n",
    "while i <= 5:\n",
    "    elemento = input(\"Digite um numero inteiro para a posição %s da primeira lista \" %(i))\n",
    "    my_list1.append(elemento)\n",
    "    i += 1\n",
    "\n",
    "i = 1\n",
    "while i <= 5:\n",
    "    elemento = input(\"Digite um numero inteiro para a posição %s da segunda lista \" %(i))\n",
    "    my_list2.append(elemento)\n",
    "    i += 1\n",
    "\n",
    "i = 0\n",
    "verificador = True\n",
    "my_list1.sort()\n",
    "my_list2.sort()\n",
    "while i <= 4:\n",
    "    if (my_list1[i] != my_list2[i]):\n",
    "        verificador = False\n",
    "    i += 1\n",
    "    \n",
    "\n",
    "print(verificador)"
   ]
  },
  {
   "cell_type": "markdown",
   "metadata": {},
   "source": [
    "4 Faça um programa que percorre uma lista com o seguinte\n",
    "formato: [['Brasil', 'Italia', [10, 9]], ['Brasil', 'Espanha', [5, 7]],\n",
    "['Italia', 'Espanha', [7,8]]]. Essa lista indica o número de faltas que\n",
    "cada time fez em cada jogo. Na lista acima, no jogo entre Brasil e\n",
    "Itália, o Brasil fez 10 faltas e a Itália fez 9.\n",
    "O programa deve imprimir na tela:\n",
    "- o total de faltas do campeonato\n",
    "- o time que fez mais faltas\n",
    "- o time que fez menos faltas"
   ]
  },
  {
   "cell_type": "code",
   "execution_count": null,
   "metadata": {},
   "outputs": [],
   "source": [
    "\n",
    "\n"
   ]
  },
  {
   "cell_type": "markdown",
   "metadata": {},
   "source": [
    "5 - Escreva um programa que conta a quantidade de vogais em uma\n",
    "string e armazena tal quantidade em um dicionário, onde a chave é\n",
    "a vogal considerada."
   ]
  },
  {
   "cell_type": "code",
   "execution_count": 6,
   "metadata": {},
   "outputs": [
    {
     "name": "stdout",
     "output_type": "stream",
     "text": [
      "Digite uma frase teste de frase com vogais\n",
      "{'A': 2, 'E': 4, 'I': 1, 'O': 2}\n"
     ]
    }
   ],
   "source": [
    "string = input(\"Digite uma frase \")\n",
    "dic={}\n",
    "string_upper = string.upper()\n",
    "if (\"A\" in string_upper):\n",
    "    dic['A']=string_upper.count(\"A\")\n",
    "if (\"E\" in string_upper):\n",
    "    dic['E']=string_upper.count(\"E\")\n",
    "if (\"I\" in string_upper):\n",
    "    dic['I']=string_upper.count(\"I\")\n",
    "if (\"O\" in string_upper):\n",
    "    dic['O']=string_upper.count(\"O\")\n",
    "if (\"U\" in string_upper):\n",
    "    dic['U']=string_upper.count(\"U\")\n",
    "print(dic)"
   ]
  },
  {
   "cell_type": "markdown",
   "metadata": {},
   "source": [
    "6 - Escreva um programa que lê̂ duas notas de vários alunos e\n",
    "armazena tais notas em um dicionário, onde a chave é o nome do\n",
    "aluno. A entrada de dados deve terminar quando for lida uma string\n",
    "vazia como nome. Escreva uma função que retorna a média do\n",
    "aluno, dado seu nome.\n"
   ]
  },
  {
   "cell_type": "code",
   "execution_count": 7,
   "metadata": {},
   "outputs": [
    {
     "name": "stdout",
     "output_type": "stream",
     "text": [
      "Insira o nome do aluno: matheus\n",
      "Insira a primeira nota: 10\n",
      "Insira a segunda nota: 8\n",
      "Insira o nome do aluno: lucas\n",
      "Insira a primeira nota: 5\n",
      "Insira a segunda nota: 6\n",
      "Insira o nome do aluno: \n",
      "Buscar Aluno: matheus\n"
     ]
    },
    {
     "data": {
      "text/plain": [
       "9.0"
      ]
     },
     "execution_count": 7,
     "metadata": {},
     "output_type": "execute_result"
    }
   ],
   "source": [
    "dic = {}\n",
    "i = 0\n",
    "nome = input(\"Insira o nome do aluno: \")\n",
    "while nome != \"\":\n",
    "    dic[nome] = [\n",
    "        float(input(\"Insira a primeira nota: \")),\n",
    "        float(input(\"Insira a segunda nota: \"))\n",
    "    ]\n",
    "    nome = input(\"Insira o nome do aluno: \")\n",
    "\n",
    "def media(nome):\n",
    "    return (dic[nome][0] + dic[nome][1]) / 2\n",
    "\n",
    "media(input(\"Buscar Aluno: \"))\n",
    "\n"
   ]
  },
  {
   "cell_type": "code",
   "execution_count": null,
   "metadata": {},
   "outputs": [],
   "source": []
  }
 ],
 "metadata": {
  "kernelspec": {
   "display_name": "Python 3",
   "language": "python",
   "name": "python3"
  },
  "language_info": {
   "codemirror_mode": {
    "name": "ipython",
    "version": 3
   },
   "file_extension": ".py",
   "mimetype": "text/x-python",
   "name": "python",
   "nbconvert_exporter": "python",
   "pygments_lexer": "ipython3",
   "version": "3.6.5"
  }
 },
 "nbformat": 4,
 "nbformat_minor": 2
}
