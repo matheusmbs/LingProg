{
 "cells": [
  {
   "cell_type": "markdown",
   "metadata": {},
   "source": [
    "1 - Faça um Programa que peça dois números e imprima o maior deles."
   ]
  },
  {
   "cell_type": "code",
   "execution_count": 1,
   "metadata": {},
   "outputs": [
    {
     "name": "stdout",
     "output_type": "stream",
     "text": [
      "Digite o primero número 1\n",
      "Digite o segundo número 4\n",
      "4\n"
     ]
    }
   ],
   "source": [
    "numero_1 = int (input(\"Digite o primero número \"))\n",
    "numero_2 = int (input(\"Digite o segundo número \"))\n",
    "\n",
    "if (numero_1 > numero_2):\n",
    "    print(numero_1)\n",
    "else:\n",
    "    print(\"O maior número é %s \" %(numero_2))"
   ]
  },
  {
   "cell_type": "markdown",
   "metadata": {},
   "source": [
    "3 - Faça um programa para a leitura de duas notas parciais de um aluno. O programa deve calcular a média alcançada por aluno e   apresentar:\n",
    "- A mensagem \"Aprovado\", se a média alcançada for maior ou igual a sete;\n",
    "- A mensagem \"Reprovado\", se a média for menor do que sete;\n",
    "- A mensagem \"Aprovado com Distinção\", se a média for igual a dez."
   ]
  },
  {
   "cell_type": "code",
   "execution_count": 2,
   "metadata": {},
   "outputs": [
    {
     "name": "stdout",
     "output_type": "stream",
     "text": [
      "Digite a primera nota 10\n",
      "Digite a segunda nota 5\n",
      "Aprovado\n"
     ]
    }
   ],
   "source": [
    "nota_1 = int (input(\"Digite a primera nota \"))\n",
    "nota_2 = int (input(\"Digite a segunda nota \"))\n",
    "\n",
    "media = (nota_1 + nota_2) / 2\n",
    "\n",
    "if(media == 10):\n",
    "    print(\"Aprovado com Distinção\")\n",
    "elif(media >= 7):\n",
    "    print(\"Aprovado\")\n",
    "else:\n",
    "    print(\"Reprovado\")\n"
   ]
  },
  {
   "cell_type": "markdown",
   "metadata": {},
   "source": [
    "5 - As Organizações Tabajara resolveram dar um aumento de salário aos seus colaboradores e lhe contrataram para desenvolver o\n",
    "programa que calculará os reajustes.\n",
    "Faça um programa que recebe o salário de um colaborador e o reajuste segundo o seguinte critério, baseado no salário atual:\n",
    "- salários até R$ 280,00 (incluindo) : aumento de 20%\n",
    "- salários entre R$ 280,00 e R$ 700,00 : aumento de 15%\n",
    "- salários entre R$ 700,00 e R$ 1500,00 : aumento de 10%\n",
    "- salários de R$ 1500,00 em diante : aumento de 5% Após o\n",
    "aumento ser realizado, informe na tela:\n",
    "- o salário antes do reajuste;\n",
    "- o percentual de aumento aplicado;\n",
    "- o valor do aumento;\n",
    "- o novo salário, após o aumento."
   ]
  },
  {
   "cell_type": "code",
   "execution_count": 17,
   "metadata": {},
   "outputs": [
    {
     "name": "stdout",
     "output_type": "stream",
     "text": [
      "Digite o salário atual 500\n",
      "O seu salário antigo é 500.0\n",
      "O seu percentual de aumento é 15\n",
      "O valor de aumento é 75.0\n",
      "O novo salário é 575.0\n"
     ]
    }
   ],
   "source": [
    "salario_atual = float(input(\"Digite o salário atual \"))\n",
    "\n",
    "if salario_atual < 280.0:\n",
    "    percentual = 20\n",
    "    valor_aumentado = salario_atual * (percentual / 100)\n",
    "    salario_novo = salario_atual + valor_aumentado\n",
    "elif salario_atual >= 280.0 and salario_atual < 700.0:\n",
    "    percentual = 15\n",
    "    valor_aumentado = salario_atual * (percentual / 100)\n",
    "    salario_novo = salario_atual + valor_aumentado\n",
    "elif salario_atual >= 700.0 and salario_atual < 1500.0:\n",
    "    percentual = 10\n",
    "    valor_aumentado = salario_atual * (percentual / 100)\n",
    "    salario_novo = salario_atual + valor_aumentado\n",
    "elif salario_atual >= 1500.0:\n",
    "    percentual = 5\n",
    "    valor_aumentado = salario_atual * (percentual / 100)\n",
    "    salario_novo = salario_atual + valor_aumentado\n",
    "    \n",
    "if salario_atual < 0:\n",
    "    print (\"Salario digitado invalido\")\n",
    "else:\n",
    "    print (\"O seu salário antigo é %s\" %salario_atual)\n",
    "    print (\"O seu percentual de aumento é %s\" %percentual)\n",
    "    print (\"O valor de aumento é %s\" %valor_aumentado)\n",
    "    print (\"O novo salário é %s\" %salario_novo)"
   ]
  },
  {
   "cell_type": "markdown",
   "metadata": {},
   "source": [
    "7 - Faça um programa que lê as duas notas parciais obtidas por um aluno numa disciplina ao longo de um semestre, e calcule a sua\n",
    "média. A atribuição de conceitos obedece à tabela abaixo: Média de Aproveitamento Conceito\n",
    " Entre 9.0 e 10.0 A\n",
    " Entre 7.5 e 9.0  B\n",
    " Entre 6.0 e 7.5  C\n",
    " Entre 4.0 e 6.0  D\n",
    " Entre 4.0 e zero E\n",
    " \n",
    "O algoritmo deve mostrar na tela as notas, a média, o conceito correspondente e a mensagem “APROVADO” se o conceito for A, B\n",
    "ou C ou “REPROVADO” se o conceito for D ou E."
   ]
  },
  {
   "cell_type": "code",
   "execution_count": 21,
   "metadata": {},
   "outputs": [
    {
     "name": "stdout",
     "output_type": "stream",
     "text": [
      "Digite a primera nota 10\n",
      "Digite a segunda nota 10\n",
      "A primeira nota do aluno foi 10.0 \n",
      "A Segunda nota do aluno foi 10.0 \n",
      "A média do aluno foi 10.0 \n",
      "O conceito do aluno foi A \n",
      "O aluno está aprovado\n"
     ]
    }
   ],
   "source": [
    "nota_1 = float (input(\"Digite a primera nota \"))\n",
    "nota_2 = float (input(\"Digite a segunda nota \"))\n",
    "media = (nota_1 + nota_2) / 2\n",
    "\n",
    "if media >= 9 and media <= 10:\n",
    "    conceito = \"A\";\n",
    "elif media >= 7.5 and media < 9:\n",
    "    conceito = \"B\";\n",
    "elif media >= 6.0 and media < 7.5:\n",
    "    conceito = \"C\";\n",
    "elif media >= 4.0 and media < 6.0:\n",
    "    conceito = \"D\";\n",
    "elif media >= 4.0 and media < 0.0:\n",
    "    conceito = \"E\";\n",
    "    \n",
    "print(\"A primeira nota do aluno foi %s \" %nota_1)\n",
    "print(\"A Segunda nota do aluno foi %s \" %nota_2)\n",
    "print(\"A média do aluno foi %s \" %media)\n",
    "print(\"O conceito do aluno foi %s \" %conceito)\n",
    "\n",
    "if conceito in \"ABC\":\n",
    "    print(\"O aluno está Aprovado\")\n",
    "else:\n",
    "    print(\"O aluno está Reprovado\")\n",
    "\n",
    "\n"
   ]
  },
  {
   "cell_type": "markdown",
   "metadata": {},
   "source": [
    "9 - Faça um programa que calcule as raízes de uma equação do segundo grau, na forma ax2 + bx + c. O programa deverá pedir os \n",
    "valores de a, b e c e fazer as consistências, informando ao usuário nas seguintes situações:\n",
    "- Se o usuário informar o valor de A igual a zero, a equação não é do segundo grau e o programa não deve fazer pedir os demais valores, sendo encerrado;\n",
    "- Se o delta calculado for negativo, a equação não possui raizes reais. Informe ao usuário e encerre o programa;\n",
    "- Se o delta calculado for igual a zero a equação possui apenas uma  raiz real; informe-a ao usuário;\n",
    "- Se o delta for positivo, a equação possui duas raiz reais; informe-as ao usuário;"
   ]
  },
  {
   "cell_type": "code",
   "execution_count": 1,
   "metadata": {},
   "outputs": [
    {
     "name": "stdout",
     "output_type": "stream",
     "text": [
      "Digite o valor de a 4\n",
      "Digite o valor de b -5\n",
      "Digite o valor de c 1\n",
      "A equação possui uma raiz real que é x1 = 1.0 e x2 = 0.25\n"
     ]
    }
   ],
   "source": [
    "a = int(input(\"Digite o valor de a \"));\n",
    "\n",
    "if a == 0:\n",
    "        print(\"A equação não é de segundo grau\")\n",
    "else:\n",
    "    b = int(input(\"Digite o valor de b \"));\n",
    "    c = int(input(\"Digite o valor de c \"));\n",
    "\n",
    "delta = (b ** 2) - (4 * a * c)\n",
    "\n",
    "if delta < 0:\n",
    "    print(\"Delta não possui raizes reais\")\n",
    "elif delta == 0:\n",
    "    x = (-b +(delta ** (1/2))) / (2 * a)\n",
    "    print (\"A equação possui uma raiz real que é x = %s \" %x);\n",
    "elif delta > 0:\n",
    "    x1 = (-b + (delta ** (1/2)) ) / (2 * a)\n",
    "    x2 = (-b - (delta ** (1/2)) ) / (2 * a)\n",
    "    print (\"A equação possui uma raiz real que é x1 = %s e x2 = %s\" %(x1, x2));\n",
    "\n",
    "\n",
    "\n"
   ]
  },
  {
   "cell_type": "markdown",
   "metadata": {},
   "source": [
    "11 - Faça um programa que faça 5 perguntas para uma pessoa sobre um crime. As perguntas são:\n",
    "- \"Telefonou para a vítima?\"\n",
    "- \"Esteve no local do crime?\"\n",
    "- \"Mora perto da vítima?\"\n",
    "- \"Devia para a vítima?\"\n",
    "- \"Já trabalhou com a vítima?\" \n",
    "\n",
    "O programa deve no fnal emitir uma classifcação sobre a participação da pessoa no crime. \n",
    "\n",
    "- Se a pessoa responder positivamente a 2 questões ela deve ser classifcada como  \"Suspeita\", \n",
    "- entre 3 e 4 como \"Cúmplice\" \n",
    "- 5 como \"Assassino\". \n",
    "- Caso contrário, ele será classifcado como \"Inocente\"."
   ]
  },
  {
   "cell_type": "code",
   "execution_count": 12,
   "metadata": {},
   "outputs": [
    {
     "name": "stdout",
     "output_type": "stream",
     "text": [
      "Telefonou para a vítima? nao\n",
      "Esteve no local do crime? nao\n",
      "Mora perto da vítima? nao\n",
      "Devia para a vítima? nao\n",
      "Já trabalhou com a vítima? sim\n",
      "A vitima é inocente\n"
     ]
    }
   ],
   "source": [
    "lista_perguntas = [\n",
    "    \"Telefonou para a vítima? \",\n",
    "    \"Esteve no local do crime? \",\n",
    "    \"Mora perto da vítima? \",\n",
    "    \"Devia para a vítima? \",\n",
    "    \"Já trabalhou com a vítima? \",\n",
    "];\n",
    "\n",
    "qtd_sim = 0;\n",
    "\n",
    "for pergunta in lista_perguntas:\n",
    "    resposta = input(pergunta)\n",
    "    if resposta.upper() == \"SIM\":\n",
    "        qtd_sim = qtd_sim + 1\n",
    "        \n",
    "if qtd_sim == 2:\n",
    "    print(\"A vitima é suspeita\")\n",
    "elif qtd_sim == 3 or qtd_sim == 4:\n",
    "    print(\"A vitima é cúmplice\")\n",
    "elif qtd_sim == 5:\n",
    "    print(\"A vitima é o assassino\")\n",
    "else:\n",
    "    print(\"A vitima é inocente\")\n",
    "    "
   ]
  },
  {
   "cell_type": "markdown",
   "metadata": {},
   "source": [
    "13 - Faça um programa que peça uma nota, entre zero e dez. Mostre uma mensagem caso o valor seja inválido e continue pedindo até que o usuário informe um valor válido."
   ]
  },
  {
   "cell_type": "code",
   "execution_count": 6,
   "metadata": {},
   "outputs": [
    {
     "name": "stdout",
     "output_type": "stream",
     "text": [
      "Digite um numero de 0 a 10 12\n",
      "Número invalido, digite novamente um número de 0 a 1013\n",
      "Número invalido, digite novamente um número de 0 a 105\n",
      "Numero Válido, seu número é 5\n"
     ]
    }
   ],
   "source": [
    "validar = False\n",
    "numero = int(input(\"Digite um numero de 0 a 10 \"))\n",
    "while not validar:\n",
    "    if (numero < 0 or numero > 10):\n",
    "        numero = int (input(\"Número invalido, digite novamente um número de 0 a 10 \"))\n",
    "    else:\n",
    "        validar = True\n",
    "        print(\"Numero Válido, seu número é %s\" %numero)\n",
    "        \n",
    "    "
   ]
  },
  {
   "cell_type": "markdown",
   "metadata": {},
   "source": [
    "15 - Faça um programa que leia 5 números e informe a soma e a média dos números."
   ]
  },
  {
   "cell_type": "code",
   "execution_count": 11,
   "metadata": {},
   "outputs": [
    {
     "name": "stdout",
     "output_type": "stream",
     "text": [
      "Digite um número 10\n",
      "Digite um número 20\n",
      "Digite um número 30\n",
      "Digite um número 40\n",
      "Digite um número 50\n",
      "A soma é 150\n",
      "A média é 30.0\n"
     ]
    }
   ],
   "source": [
    "numero = 0\n",
    "i = 1\n",
    "\n",
    "while i <= 5:\n",
    "    numero += int(input(\"Digite um número \"))\n",
    "    i += 1\n",
    "    \n",
    "media = numero / 5\n",
    "print(\"A soma é %s\" %numero)\n",
    "print(\"A média é %s\" %media)\n"
   ]
  },
  {
   "cell_type": "markdown",
   "metadata": {},
   "source": [
    "17 - Desenvolva um gerador de tabuada, capaz de gerar a tabuada de qualquer número inteiro entre 1 a 10. O usuário deve informar de qual numero ele deseja ver a tabuada. A saída deve ser conforme o exemplo abaixo:\n",
    "\n",
    "- Tabuada de 5:\n",
    "- 5 X 1 = 5\n",
    "- 5 X 2 = 10\n",
    "- ...\n",
    "- 5 X 10 = 50"
   ]
  },
  {
   "cell_type": "code",
   "execution_count": 1,
   "metadata": {},
   "outputs": [
    {
     "name": "stdout",
     "output_type": "stream",
     "text": [
      "Digite um número para ver a tabuada5\n",
      "5 x 1 = 5\n",
      "5 x 2 = 10\n",
      "5 x 3 = 15\n",
      "5 x 4 = 20\n",
      "5 x 5 = 25\n",
      "5 x 6 = 30\n",
      "5 x 7 = 35\n",
      "5 x 8 = 40\n",
      "5 x 9 = 45\n",
      "5 x 10 = 50\n"
     ]
    }
   ],
   "source": [
    "numero = int(input(\"Digite um número para ver a tabuada\"))\n",
    "\n",
    "for i in range(1, 11):\n",
    "    print(\"%s x %s = %s\" %(numero, i, numero*i))"
   ]
  },
  {
   "cell_type": "markdown",
   "metadata": {},
   "source": [
    "19 - Faça um programa que calcule o fatorial de um número inteiro fornecido pelo usuário. Ex.: 5!=5.4.3.2.1=120"
   ]
  },
  {
   "cell_type": "code",
   "execution_count": 4,
   "metadata": {},
   "outputs": [
    {
     "name": "stdout",
     "output_type": "stream",
     "text": [
      "Digite um número para ver a sua fatorial 10\n",
      "O fatorial é 3628800 \n"
     ]
    }
   ],
   "source": [
    "numero = int(input(\"Digite um número para ver a sua fatorial \"))\n",
    "resultado = 1\n",
    "\n",
    "for i in range(numero, 0, -1):\n",
    "    resultado = resultado * i\n",
    "    \n",
    "print(\"O fatorial é %s \" %resultado)\n",
    "    "
   ]
  },
  {
   "cell_type": "markdown",
   "metadata": {},
   "source": [
    "21 - O Sr. Manoel Joaquim acaba de adquirir uma panifcadora e pretende implantar a metodologia da tabelinha, que já é um sucesso na sua loja de 1,99. Você foi contratado para desenvolver o programa que monta a tabela de preços de pães, de 1 até 50 pães, a partir do preço do pão informado pelo usuário, conforme o exemplo abaixo:\n",
    "- Preço do pão: R$ 0.18\n",
    "\n",
    "Panificadora Pão de Ontem - Tabela de preços:\n",
    "\n",
    "1 -  R$ 0.18\n",
    "\n",
    "2 -  R$ 0.36\n",
    "...\n",
    "50 - R$ 9.00"
   ]
  },
  {
   "cell_type": "code",
   "execution_count": 10,
   "metadata": {},
   "outputs": [
    {
     "name": "stdout",
     "output_type": "stream",
     "text": [
      "Preço do pão: R$ 0.18\n",
      "Panificadora Pão de Ontem - Tabela de preços\n",
      "1 - R$ 0.18\n",
      "2 - R$ 0.36\n",
      "3 - R$ 0.54\n",
      "4 - R$ 0.72\n",
      "5 - R$ 0.9\n",
      "6 - R$ 1.08\n",
      "7 - R$ 1.26\n",
      "8 - R$ 1.44\n",
      "9 - R$ 1.62\n",
      "10 - R$ 1.8\n",
      "11 - R$ 1.98\n",
      "12 - R$ 2.16\n",
      "13 - R$ 2.34\n",
      "14 - R$ 2.52\n",
      "15 - R$ 2.7\n",
      "16 - R$ 2.88\n",
      "17 - R$ 3.06\n",
      "18 - R$ 3.24\n",
      "19 - R$ 3.42\n",
      "20 - R$ 3.6\n",
      "21 - R$ 3.78\n",
      "22 - R$ 3.96\n",
      "23 - R$ 4.14\n",
      "24 - R$ 4.32\n",
      "25 - R$ 4.5\n",
      "26 - R$ 4.68\n",
      "27 - R$ 4.86\n",
      "28 - R$ 5.04\n",
      "29 - R$ 5.22\n",
      "30 - R$ 5.4\n",
      "31 - R$ 5.58\n",
      "32 - R$ 5.76\n",
      "33 - R$ 5.94\n",
      "34 - R$ 6.12\n",
      "35 - R$ 6.3\n",
      "36 - R$ 6.48\n",
      "37 - R$ 6.66\n",
      "38 - R$ 6.84\n",
      "39 - R$ 7.02\n",
      "40 - R$ 7.2\n",
      "41 - R$ 7.38\n",
      "42 - R$ 7.56\n",
      "43 - R$ 7.74\n",
      "44 - R$ 7.92\n",
      "45 - R$ 8.1\n",
      "46 - R$ 8.28\n",
      "47 - R$ 8.46\n",
      "48 - R$ 8.64\n",
      "49 - R$ 8.82\n",
      "50 - R$ 9.0\n"
     ]
    }
   ],
   "source": [
    "print (\"Preço do pão: R$ 0.18\")\n",
    "print(\"Panificadora Pão de Ontem - Tabela de preços\")\n",
    "for i in range(1, 51):\n",
    "    print (\"%s - R$ %s\" %(i, round(i * 0.18, 2)))"
   ]
  },
  {
   "cell_type": "markdown",
   "metadata": {},
   "source": [
    "23 - Foi feita uma estatística em cinco cidades brasileiras para coletar dados sobre acidentes de trânsito. Foram obtidos os \n",
    "seguintes dados:\n",
    "- Código da cidade;\n",
    "- Número de veículos de passeio (em 1999);\n",
    "- Número de acidentes de trânsito com vítimas (em 1999). \n",
    "\n",
    "Deseja-se saber:\n",
    "\n",
    "- Qual o maior e menor índice de acidentes de transito e a que cidade pertence;\n",
    "- Qual a média de veículos nas cinco cidades juntas;\n",
    "- Qual a média de acidentes de trânsito nas cidades com menos de 2.000 veículos de passeio."
   ]
  },
  {
   "cell_type": "code",
   "execution_count": 37,
   "metadata": {},
   "outputs": [
    {
     "name": "stdout",
     "output_type": "stream",
     "text": [
      "1\n",
      "O maior indice de acidentes é 3000 da cidade São Paulo\n",
      "O menor indice de acidentes é 100 da cidade Teresina\n",
      "A média de veículos nas cinco cidades juntas é 4100.0\n",
      "A média de acidentes de trânsito nas cidades com menos de 2.000 veículos de passeio é 1250.0\n"
     ]
    }
   ],
   "source": [
    "dic = {\n",
    "    \"São Paulo\": [1, 10000, 3000],\n",
    "    \"Rio de Janeiro\": [2, 5000, 500],\n",
    "    \"Teresina\": [3, 1500, 100],\n",
    "    \"Recife\": [4, 3000, 900],\n",
    "    \"Uberlandia\": [5, 1000, 300],\n",
    "}\n",
    "\n",
    "maior_indice = 0;\n",
    "menor_indice = 0;\n",
    "soma = 0\n",
    "i = 0\n",
    "soma_2 = 0\n",
    "\n",
    "for cidade in dic:\n",
    "    if maior_indice < dic[cidade][2]:\n",
    "        cidade_maior_indice = cidade\n",
    "        maior_indice = dic[cidade][2]\n",
    "    if menor_indice == 0 or menor_indice > dic[cidade][2]:\n",
    "        menor_indice = dic[cidade][2]\n",
    "        cidade_menor_indice = cidade\n",
    "    soma += dic[cidade][1]\n",
    "    if dic[cidade][1] < 2000:\n",
    "        soma_2 += dic[cidade][1]\n",
    "        i += 1;\n",
    "    \n",
    "media = soma /5\n",
    "media_2 = soma_2 / i\n",
    "\n",
    "print(\"O maior indice de acidentes é %s da cidade %s\"%(maior_indice, cidade_maior_indice))\n",
    "print(\"O menor indice de acidentes é %s da cidade %s\"%(menor_indice, cidade_menor_indice))\n",
    "print(\"A média de veículos nas cinco cidades juntas é %s\"%(media))\n",
    "print(\"A média de acidentes de trânsito nas cidades com menos de 2.000 veículos de passeio é %s\"%(media_2))"
   ]
  },
  {
   "cell_type": "markdown",
   "metadata": {},
   "source": [
    "25 - Faça um programa que mostre os n termos da Série a seguir:\n",
    "    S = 1/1 + 2/3 + 3/5 + 4/7 + 5/9 + ... + n/m. \n",
    "Imprima no final a soma da série."
   ]
  },
  {
   "cell_type": "code",
   "execution_count": 43,
   "metadata": {},
   "outputs": [
    {
     "name": "stdout",
     "output_type": "stream",
     "text": [
      "Digite a quantidade de termos 3\n",
      "O resultado é 2.2666666666666666\n"
     ]
    }
   ],
   "source": [
    "numero = int(input(\"Digite a quantidade de termos \"))\n",
    "string = []\n",
    "i = 1\n",
    "j = 1\n",
    "\n",
    "resultado = 0\n",
    "\n",
    "while i <= numero:\n",
    "    valor = i / j\n",
    "    resultado += valor\n",
    "    i += 1\n",
    "    j += 2 \n",
    "print(\"O resultado é %s\" %resultado) "
   ]
  },
  {
   "cell_type": "code",
   "execution_count": null,
   "metadata": {},
   "outputs": [],
   "source": []
  }
 ],
 "metadata": {
  "kernelspec": {
   "display_name": "Python 3",
   "language": "python",
   "name": "python3"
  },
  "language_info": {
   "codemirror_mode": {
    "name": "ipython",
    "version": 3
   },
   "file_extension": ".py",
   "mimetype": "text/x-python",
   "name": "python",
   "nbconvert_exporter": "python",
   "pygments_lexer": "ipython3",
   "version": "3.6.5"
  }
 },
 "nbformat": 4,
 "nbformat_minor": 2
}
