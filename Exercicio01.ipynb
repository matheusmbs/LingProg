{
 "cells": [
  {
   "cell_type": "markdown",
   "metadata": {},
   "source": [
    "1 - Faça um Programa que peça o raio de um círculo, calcule e mostre sua área."
   ]
  },
  {
   "cell_type": "code",
   "execution_count": 2,
   "metadata": {},
   "outputs": [
    {
     "name": "stdout",
     "output_type": "stream",
     "text": [
      "Digite o seu raio 1\n",
      "Um círculo com raio 1 tem uma área de 3.141592653589793 cm²\n"
     ]
    }
   ],
   "source": [
    "import math\n",
    "raio = int(input(\"Digite o seu raio \"))\n",
    "area = math.pi * (raio ** 2)\n",
    "print('Um círculo com raio %s tem uma área de %s cm²' % (raio, area))\n"
   ]
  },
  {
   "cell_type": "markdown",
   "metadata": {},
   "source": [
    "2 - Faça um Programa que calcule a área de um quadrado, em seguida mostre o dobro desta área para o usuário."
   ]
  },
  {
   "cell_type": "code",
   "execution_count": 3,
   "metadata": {},
   "outputs": [
    {
     "name": "stdout",
     "output_type": "stream",
     "text": [
      "Digite o lado do quadrado 2\n",
      "O dobro da área do quadrado cujo o lado é 2 é 8 cm\n"
     ]
    }
   ],
   "source": [
    "lado = int(input(\"Digite o lado do quadrado \"))\n",
    "area = lado ** 2\n",
    "print ('O dobro da área do quadrado cujo o lado é %s é %s cm' % (lado, area*2))"
   ]
  },
  {
   "cell_type": "markdown",
   "metadata": {},
   "source": [
    "3 - Faça um Programa que pergunte quanto você ganha por hora e o número de horas trabalhadas no mês. Calcule e mostre o total do seu salário no referido mês."
   ]
  },
  {
   "cell_type": "code",
   "execution_count": 7,
   "metadata": {},
   "outputs": [
    {
     "name": "stdout",
     "output_type": "stream",
     "text": [
      "Digite o seu salário por hora 10\n",
      "Digite as horas trabalhadas no mês 10\n",
      "O seu salário no mês é 100 \n"
     ]
    }
   ],
   "source": [
    "salario_hora = int(input(\"Digite o seu salário por hora \"))\n",
    "horas_trabalhadas_mes = int(input(\"Digite as horas trabalhadas no mês \"))\n",
    "total_salario = salario_hora * horas_trabalhadas_mes\n",
    "print ('O seu salário no mês é %s ' % (total_salario))"
   ]
  },
  {
   "cell_type": "markdown",
   "metadata": {},
   "source": [
    "4 - Faça um Programa que peça a temperatura em graus Farenheit, transforme e mostre a temperatura em graus Celsius. C = (5 * (F-32) / 9)."
   ]
  },
  {
   "cell_type": "code",
   "execution_count": 13,
   "metadata": {},
   "outputs": [
    {
     "name": "stdout",
     "output_type": "stream",
     "text": [
      "Digite a temperatura em graus Farenheit 45\n",
      "A temperatura convertida em Celcius é 7 graus\n"
     ]
    }
   ],
   "source": [
    "farenheit = int(input(\"Digite a temperatura em graus Farenheit \"))\n",
    "celcius = 5 * (farenheit - 32) / 9\n",
    "print ('A temperatura convertida em Celcius é %s graus' % (int(celcius)))"
   ]
  },
  {
   "cell_type": "markdown",
   "metadata": {},
   "source": [
    "5 - Faça um Programa que peça a temperatura em graus Celsius, transforme e mostre em graus Farenheit."
   ]
  },
  {
   "cell_type": "code",
   "execution_count": 12,
   "metadata": {},
   "outputs": [
    {
     "name": "stdout",
     "output_type": "stream",
     "text": [
      "Digite a temperatura em graus Celcius 25\n",
      "A temperatura convertida em Farenheit é 77 graus\n"
     ]
    }
   ],
   "source": [
    "celcius = int(input(\"Digite a temperatura em graus Celcius \"))\n",
    "farenheit = celcius * 9 / 5 + 32\n",
    "print ('A temperatura convertida em Farenheit é %s graus' % (int(farenheit)))"
   ]
  },
  {
   "cell_type": "markdown",
   "metadata": {},
   "source": [
    "6 - Faça um Programa que peça 2 números inteiros e um número real. Calcule e mostre:\n",
    "- o produto do dobro do primeiro com metade do segundo .\n",
    "- a soma do triplo do primeiro com o terceiro.\n",
    "- o terceiro elevado ao cubo."
   ]
  },
  {
   "cell_type": "code",
   "execution_count": null,
   "metadata": {},
   "outputs": [],
   "source": [
    "a = int(input(\"Digite um número inteiro \"))\n",
    "b = int(input(\"Digite outro número inteiro \"))\n",
    "c = float(input(\"Digite um número real \"))\n",
    "\n",
    "calculo_1 = (a * 2) * (b / 2)\n",
    "calculo_2 = (a * 3) + c \n",
    "calculo_3 = c ** 3\n",
    "\n",
    "print ('O produto do dobro de %s com metade de %s é %s ' % (a, b, calculo_1))\n",
    "print ('A soma do triplo de %s com %s é %s ' % (a, c, calculo_2))\n",
    "print ('%s elevado ao cubo é %s ' % (c, calculo_3))"
   ]
  },
  {
   "cell_type": "markdown",
   "metadata": {},
   "source": [
    "7 - João Papo-de-Pescador, homem de bem, comprou um microcomputador para controlar o rendimento diário de seu trabalho. Toda vez que ele traz um peso de peixes maior que o estabelecido pelo regulamento de pesca do estado de São Paulo (50 quilos) deve pagar uma multa de R$ 4,00 por quilo excedente. João precisa que você faça um programa que leia a variável peso (peso de peixes) e verifque se há excesso. Se houver, gravar na variável excesso e na variável multa o valor da multa que João deverá pagar. Caso contrário mostrar tais variáveis com o conteúdo ZERO."
   ]
  },
  {
   "cell_type": "code",
   "execution_count": 3,
   "metadata": {},
   "outputs": [
    {
     "name": "stdout",
     "output_type": "stream",
     "text": [
      "Digite o peso dos peixes 52\n",
      "O peso de peixes teve um excesso de 2 KG e a multa custará 8.0 R$ \n"
     ]
    }
   ],
   "source": [
    "peso_peixes = int(input(\"Digite o peso dos peixes \"))\n",
    "multa = 0\n",
    "excesso = 0;\n",
    "\n",
    "if (peso_peixes > 50):\n",
    "    excesso = peso_peixes - 50\n",
    "    multa = excesso * 4\n",
    "    print ('O peso de peixes teve um excesso de %s KG e a multa custará %s R$ ' % (excesso, float(multa)))\n",
    "else:\n",
    "    print ('O peso de peixes não excedeu a 50 kg')\n"
   ]
  },
  {
   "cell_type": "markdown",
   "metadata": {},
   "source": [
    "8 - Faça um Programa que pergunte quanto você ganha por hora e o número de horas trabalhadas no mês. Calcule e mostre o total do seu salário no referido mês, sabendo-se que são descontados 11% para o Imposto de Renda, 8% para o INSS e 5% para o sindicato, faça um programa que nos dê: \n",
    "- salário bruto. \n",
    "- quanto pagou ao INSS. \n",
    "- quanto pagou ao sindicato. \n",
    "- o salário líquido. \n",
    "- calcule os descontos e o salário líquido, conforme a tabela abaixo:           \n",
    "    + Salário Bruto : R$           \n",
    "    - IR (11%) : R$           \n",
    "    - INSS (8%) : R$           \n",
    "    - Sindicato ( 5%) : R$           \n",
    "    = Salário Liquido : R$ \n",
    "Obs.: Salário Bruto - Descontos = Salário Líquido.\n"
   ]
  },
  {
   "cell_type": "code",
   "execution_count": 7,
   "metadata": {},
   "outputs": [
    {
     "name": "stdout",
     "output_type": "stream",
     "text": [
      "Digite o seu salário por hora 10\n",
      "Digite as horas trabalhadas no mês 50\n",
      "Salário Bruto: 500\n",
      "Desconto do Imposto de Renda: 55.0\n",
      "Desconto do INSS: 40.0\n",
      "Desconto do Sindicato: 25.0\n",
      "Salário Liquido: 380.0\n"
     ]
    }
   ],
   "source": [
    "salario_hora = int(input(\"Digite o seu salário por hora \"))\n",
    "horas_trabalhadas_mes = int(input(\"Digite as horas trabalhadas no mês \"))\n",
    "salario_bruto = salario_hora * horas_trabalhadas_mes\n",
    "desconto_imposto_renda = salario_bruto * 0.11\n",
    "desconto_inss = salario_bruto * 0.08\n",
    "desconto_sindicato = salario_bruto * 0.05\n",
    "\n",
    "salario_liquido = salario_bruto - (desconto_imposto_renda + desconto_inss + desconto_sindicato)\n",
    "\n",
    "print(\"Salário Bruto: %s\" %(salario_bruto))\n",
    "print(\"Desconto do Imposto de Renda: %s\" %(desconto_imposto_renda))\n",
    "print(\"Desconto do INSS: %s\" %(desconto_inss))\n",
    "print(\"Desconto do Sindicato: %s\" %(desconto_sindicato))\n",
    "print(\"Salário Liquido: %s\" %(salario_liquido))\n"
   ]
  },
  {
   "cell_type": "markdown",
   "metadata": {},
   "source": [
    "9 - Faça um programa que leia 2 strings e informe o conteúdo delas seguido do seu comprimento. Informe também se as duas strings possuem o mesmo comprimento e são iguais ou diferentes no conteúdo. \n",
    "Exemplo: \n",
    "String 1: Brasil Hexa 2018 \n",
    "String 2: Brasil! Hexa 2018! \n",
    "Tamanho de \"Brasil Hexa 2018\": 16 caracteres \n",
    "Tamanho de \"Brasil! Hexa 2018!\": 18 caracteres \n",
    "As duas strings são de tamanhos diferentes. \n",
    "As duas strings possuem conteúdo diferente.]\n"
   ]
  },
  {
   "cell_type": "code",
   "execution_count": 9,
   "metadata": {},
   "outputs": [
    {
     "name": "stdout",
     "output_type": "stream",
     "text": [
      "Digite uma frase aaaa\n",
      "Digite outra frase bbbbbbbbb\n",
      "String 1 aaaa \n",
      "String 2 bbbbbbbbb \n",
      "Tamanho de aaaa: 4 \n",
      "Tamanho de bbbbbbbbb: 9 \n"
     ]
    }
   ],
   "source": [
    "string_1 = input(\"Digite uma frase \")\n",
    "string_2 = input (\"Digite outra frase \")\n",
    "\n",
    "print('String 1 %s ' %(string_1))\n",
    "print('String 2 %s ' %(string_2))\n",
    "print('Tamanho de %s: %s ' %(string_1 ,len(string_1)))\n",
    "print('Tamanho de %s: %s ' %(string_2 ,len(string_2)))\n",
    "\n"
   ]
  },
  {
   "cell_type": "code",
   "execution_count": null,
   "metadata": {},
   "outputs": [],
   "source": []
  }
 ],
 "metadata": {
  "kernelspec": {
   "display_name": "Python 3",
   "language": "python",
   "name": "python3"
  },
  "language_info": {
   "codemirror_mode": {
    "name": "ipython",
    "version": 3
   },
   "file_extension": ".py",
   "mimetype": "text/x-python",
   "name": "python",
   "nbconvert_exporter": "python",
   "pygments_lexer": "ipython3",
   "version": "3.6.5"
  }
 },
 "nbformat": 4,
 "nbformat_minor": 2
}
